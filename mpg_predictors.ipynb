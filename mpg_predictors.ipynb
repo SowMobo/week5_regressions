{
 "cells": [
  {
   "cell_type": "code",
   "execution_count": 1,
   "metadata": {},
   "outputs": [],
   "source": [
    "import numpy as np\n",
    "import code_for_hw5 as hw5\n",
    "import auto as oto"
   ]
  },
  {
   "cell_type": "markdown",
   "metadata": {},
   "source": [
    "### Datasets and Polynomial features transformation"
   ]
  },
  {
   "cell_type": "code",
   "execution_count": 2,
   "metadata": {},
   "outputs": [],
   "source": [
    "X_s1 = hw5.make_polynomial_feature_fun(1)(oto.auto_data[0])\n",
    "X_s2 = hw5.make_polynomial_feature_fun(1)(oto.auto_data[1])"
   ]
  },
  {
   "cell_type": "code",
   "execution_count": 3,
   "metadata": {},
   "outputs": [],
   "source": [
    "Y_s1 = oto.auto_values\n",
    "Y_s2 = oto.auto_values"
   ]
  },
  {
   "cell_type": "code",
   "execution_count": 4,
   "metadata": {},
   "outputs": [],
   "source": [
    "def test(X, Y, lams, k=10):\n",
    "    for lam in lams:\n",
    "       score = hw5.xval_learning_alg(X, Y, lam, k).tolist() \n",
    "       print(\" For lam = {}, score = {} \".format(lam, score))\n",
    "    "
   ]
  },
  {
   "cell_type": "markdown",
   "metadata": {},
   "source": [
    "### Test cases on ridge_min for order 1 and set 1"
   ]
  },
  {
   "cell_type": "code",
   "execution_count": 5,
   "metadata": {},
   "outputs": [
    {
     "name": "stdout",
     "output_type": "stream",
     "text": [
      " For lam = 0.0, score = [[0.5482321779790428]] \n",
      " For lam = 0.01, score = [[0.5483481494451308]] \n",
      " For lam = 0.02, score = [[0.5484706315938134]] \n",
      " For lam = 0.03, score = [[0.5485995147151684]] \n",
      " For lam = 0.04, score = [[0.5487346905794944]] \n",
      " For lam = 0.05, score = [[0.5488760524229521]] \n",
      " For lam = 0.06, score = [[0.5490234949331569]] \n",
      " For lam = 0.07, score = [[0.5491769142347266]] \n",
      " For lam = 0.08, score = [[0.5493362078747925]] \n",
      " For lam = 0.09, score = [[0.5495012748084831]] \n",
      " For lam = 0.1, score = [[0.5496720153843853]] \n"
     ]
    }
   ],
   "source": [
    "lams = np.arange(0.0, 0.11, 0.01).tolist()\n",
    "test(X_s1, Y_s1, lams)"
   ]
  },
  {
   "cell_type": "markdown",
   "metadata": {},
   "source": [
    "### Test cases on ridge_min for order 1 and set 2"
   ]
  },
  {
   "cell_type": "code",
   "execution_count": 6,
   "metadata": {},
   "outputs": [
    {
     "name": "stdout",
     "output_type": "stream",
     "text": [
      " For lam = 0.0, score = [[0.5313179818108111]] \n",
      " For lam = 0.01, score = [[0.5315133134098202]] \n",
      " For lam = 0.02, score = [[0.531717019784605]] \n",
      " For lam = 0.03, score = [[0.5319289402037708]] \n",
      " For lam = 0.04, score = [[0.5321489162382212]] \n",
      " For lam = 0.05, score = [[0.5323767917423792]] \n",
      " For lam = 0.06, score = [[0.532612412835018]] \n",
      " For lam = 0.07, score = [[0.5328556278797321]] \n",
      " For lam = 0.08, score = [[0.5331062874650659]] \n",
      " For lam = 0.09, score = [[0.5333642443843273]] \n",
      " For lam = 0.1, score = [[0.5336293536151068]] \n"
     ]
    }
   ],
   "source": [
    "test(X_s2, Y_s2, lams)"
   ]
  },
  {
   "cell_type": "markdown",
   "metadata": {},
   "source": [
    "### Test cases on ridge_min for order 2 and s1"
   ]
  },
  {
   "cell_type": "code",
   "execution_count": 7,
   "metadata": {},
   "outputs": [],
   "source": [
    "X_s1 = hw5.make_polynomial_feature_fun(2)(oto.auto_data[0])\n",
    "X_s2 = hw5.make_polynomial_feature_fun(2)(oto.auto_data[1])"
   ]
  },
  {
   "cell_type": "code",
   "execution_count": 8,
   "metadata": {},
   "outputs": [
    {
     "name": "stdout",
     "output_type": "stream",
     "text": [
      " For lam = 0.0, score = [[0.5165256640552364]] \n",
      " For lam = 0.01, score = [[0.5166289755089962]] \n",
      " For lam = 0.02, score = [[0.5167397716973583]] \n",
      " For lam = 0.03, score = [[0.5168579146246236]] \n",
      " For lam = 0.04, score = [[0.516983268281214]] \n",
      " For lam = 0.05, score = [[0.5171156986251995]] \n",
      " For lam = 0.06, score = [[0.5172550735636575]] \n",
      " For lam = 0.07, score = [[0.5174012629338752]] \n",
      " For lam = 0.08, score = [[0.5175541384844106]] \n",
      " For lam = 0.09, score = [[0.5177135738560216]] \n",
      " For lam = 0.1, score = [[0.5178794445624765]] \n"
     ]
    }
   ],
   "source": [
    "test(X_s1, Y_s1, lams)"
   ]
  },
  {
   "cell_type": "markdown",
   "metadata": {},
   "source": [
    "### Test cases on ridge_min for order 2 and s2"
   ]
  },
  {
   "cell_type": "code",
   "execution_count": 9,
   "metadata": {},
   "outputs": [
    {
     "name": "stdout",
     "output_type": "stream",
     "text": [
      " For lam = 0.0, score = [[0.4983126421670579]] \n",
      " For lam = 0.01, score = [[0.49840557061366153]] \n",
      " For lam = 0.02, score = [[0.49850492687879794]] \n",
      " For lam = 0.03, score = [[0.49861059531193563]] \n",
      " For lam = 0.04, score = [[0.4987224619815008]] \n",
      " For lam = 0.05, score = [[0.4988404146552872]] \n",
      " For lam = 0.06, score = [[0.49896434278088825]] \n",
      " For lam = 0.07, score = [[0.49909413746616327]] \n",
      " For lam = 0.08, score = [[0.4992296914597424]] \n",
      " For lam = 0.09, score = [[0.4993708991315783]] \n",
      " For lam = 0.1, score = [[0.4995176564535476]] \n"
     ]
    }
   ],
   "source": [
    "test(X_s2, Y_s2, lams)"
   ]
  },
  {
   "cell_type": "markdown",
   "metadata": {},
   "source": [
    "### Test cases on ridge_min for order 3 and set 1"
   ]
  },
  {
   "cell_type": "code",
   "execution_count": 10,
   "metadata": {},
   "outputs": [],
   "source": [
    "X_s1 = hw5.make_polynomial_feature_fun(3)(oto.auto_data[0])\n",
    "X_s2 = hw5.make_polynomial_feature_fun(3)(oto.auto_data[1])"
   ]
  },
  {
   "cell_type": "code",
   "execution_count": 11,
   "metadata": {},
   "outputs": [
    {
     "name": "stdout",
     "output_type": "stream",
     "text": [
      " For lam = 0, score = [[11694443.349454524]] \n",
      " For lam = 20, score = [[0.8311179838598667]] \n",
      " For lam = 40, score = [[0.7728220013230147]] \n",
      " For lam = 60, score = [[0.7747701080121777]] \n",
      " For lam = 80, score = [[0.773896926936408]] \n",
      " For lam = 100, score = [[0.773731032442597]] \n",
      " For lam = 120, score = [[0.7757175165287513]] \n",
      " For lam = 140, score = [[0.7798219587144657]] \n",
      " For lam = 160, score = [[0.7860549559829583]] \n",
      " For lam = 180, score = [[0.7951042565623607]] \n",
      " For lam = 200, score = [[0.8051893857296257]] \n"
     ]
    }
   ],
   "source": [
    "lams = np.arange(0, 220, 20).tolist()\n",
    "test(X_s1, Y_s1, lams)"
   ]
  },
  {
   "cell_type": "markdown",
   "metadata": {},
   "source": [
    "### Test cases on ridge_min for order 3 and set 2"
   ]
  },
  {
   "cell_type": "code",
   "execution_count": 12,
   "metadata": {},
   "outputs": [
    {
     "name": "stdout",
     "output_type": "stream",
     "text": [
      " For lam = 0, score = [[479995.8342373061]] \n",
      " For lam = 20, score = [[0.7359266197078987]] \n",
      " For lam = 40, score = [[0.7583502352905847]] \n",
      " For lam = 60, score = [[0.7696464214712557]] \n",
      " For lam = 80, score = [[0.7757159150012228]] \n",
      " For lam = 100, score = [[0.7811950432479638]] \n",
      " For lam = 120, score = [[0.7873332989226618]] \n",
      " For lam = 140, score = [[0.7944650405515509]] \n",
      " For lam = 160, score = [[0.8026517054031356]] \n",
      " For lam = 180, score = [[0.8119692191645969]] \n",
      " For lam = 200, score = [[0.8225565007185475]] \n"
     ]
    }
   ],
   "source": [
    "test(X_s2, Y_s2, lams)"
   ]
  },
  {
   "cell_type": "markdown",
   "metadata": {},
   "source": [
    "### `Conclusion`\n",
    "##### The combinaison that minimizes the RMSE is (2, 2, 0.0) / (set 2, order 2, lambda). Lambda has less impact on RMSE."
   ]
  },
  {
   "cell_type": "markdown",
   "metadata": {},
   "source": [
    "### Cross-validation RMSE value (in mpg) that you obtain using the best combination"
   ]
  },
  {
   "cell_type": "code",
   "execution_count": 13,
   "metadata": {},
   "outputs": [
    {
     "data": {
      "text/plain": [
       "array([[3.88436985]])"
      ]
     },
     "execution_count": 13,
     "metadata": {},
     "output_type": "execute_result"
    }
   ],
   "source": [
    "X_s2 = hw5.make_polynomial_feature_fun(2)(oto.auto_data[1])\n",
    "rmse = hw5.xval_learning_alg(X_s2, Y_s2, 0.0, 10)\n",
    "rmse_mpg = rmse * oto.sigma\n",
    "rmse_mpg\n"
   ]
  },
  {
   "cell_type": "markdown",
   "metadata": {},
   "source": [
    "### Best lambda and corresponding RMSE_mpg by fiting an 3 order polynomial model using the first set feature.\n"
   ]
  },
  {
   "cell_type": "markdown",
   "metadata": {},
   "source": [
    "#### From previous tests, we find that for lambda =  `40`, the  rmse is minimum ansd rmse = `0.7728220013230147`. So the rmse in mpg is "
   ]
  },
  {
   "cell_type": "code",
   "execution_count": 14,
   "metadata": {},
   "outputs": [
    {
     "data": {
      "text/plain": [
       "array([[6.02418287]])"
      ]
     },
     "execution_count": 14,
     "metadata": {},
     "output_type": "execute_result"
    }
   ],
   "source": [
    "rmse = hw5.xval_learning_alg(X_s1, Y_s1, 40, 10)\n",
    "rmse_mpg = rmse * oto.sigma\n",
    "rmse_mpg"
   ]
  },
  {
   "cell_type": "code",
   "execution_count": 15,
   "metadata": {},
   "outputs": [
    {
     "data": {
      "text/plain": [
       "array([[5.88292896]])"
      ]
     },
     "execution_count": 15,
     "metadata": {},
     "output_type": "execute_result"
    }
   ],
   "source": [
    "rmse = hw5.xval_learning_alg(X_s1, Y_s1, 26, 10)\n",
    "rmse_mpg = rmse * oto.sigma\n",
    "rmse_mpg"
   ]
  },
  {
   "cell_type": "code",
   "execution_count": null,
   "metadata": {},
   "outputs": [],
   "source": []
  }
 ],
 "metadata": {
  "interpreter": {
   "hash": "589de4b78d110c5d67d4fa6fe6e172435b70bd56bfbdc482f8885043e8186e7e"
  },
  "kernelspec": {
   "display_name": "Python 3.9.7 64-bit ('regression': conda)",
   "language": "python",
   "name": "python3"
  },
  "language_info": {
   "codemirror_mode": {
    "name": "ipython",
    "version": 3
   },
   "file_extension": ".py",
   "mimetype": "text/x-python",
   "name": "python",
   "nbconvert_exporter": "python",
   "pygments_lexer": "ipython3",
   "version": "3.9.7"
  },
  "orig_nbformat": 4
 },
 "nbformat": 4,
 "nbformat_minor": 2
}
